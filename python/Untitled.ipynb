{
 "cells": [
  {
   "cell_type": "code",
   "execution_count": 18,
   "metadata": {},
   "outputs": [],
   "source": [
    "import json\n",
    "import pandas as pd"
   ]
  },
  {
   "cell_type": "code",
   "execution_count": 19,
   "metadata": {},
   "outputs": [],
   "source": [
    "INPUT_TSV_FILENAME = \"../test_data/kelly/Covian_PairedData_TestSheet.txt\"\n",
    "INPUT_JSON_FILENAME = \"../test_data/kelly/Covian_paired_datarecord_preview_id.json\"\n",
    "\n",
    "INSTRUMENT_METHOD_LABEL = \"Seed Grant TOF\"\n",
    "EXTRACTION_METHOD = \"SeedGrant_Extraction\"\n",
    "SAMPLE_PREP = \"metagenomic_mouse_fecal\""
   ]
  },
  {
   "cell_type": "code",
   "execution_count": 20,
   "metadata": {},
   "outputs": [
    {
     "name": "stderr",
     "output_type": "stream",
     "text": [
      "/home/mingxun/miniconda3/lib/python3.7/site-packages/ipykernel_launcher.py:1: ParserWarning: Falling back to the 'python' engine because the 'c' engine does not support sep=None with delim_whitespace=False; you can avoid this warning by specifying engine='python'.\n",
      "  \"\"\"Entry point for launching an IPython kernel.\n"
     ]
    },
    {
     "data": {
      "text/html": [
       "<div>\n",
       "<style scoped>\n",
       "    .dataframe tbody tr th:only-of-type {\n",
       "        vertical-align: middle;\n",
       "    }\n",
       "\n",
       "    .dataframe tbody tr th {\n",
       "        vertical-align: top;\n",
       "    }\n",
       "\n",
       "    .dataframe thead th {\n",
       "        text-align: right;\n",
       "    }\n",
       "</style>\n",
       "<table border=\"1\" class=\"dataframe\">\n",
       "  <thead>\n",
       "    <tr style=\"text-align: right;\">\n",
       "      <th></th>\n",
       "      <th>Metabolomics_ftp</th>\n",
       "      <th>experiment_accession</th>\n",
       "    </tr>\n",
       "  </thead>\n",
       "  <tbody>\n",
       "    <tr>\n",
       "      <td>0</td>\n",
       "      <td>ftp://massive.ucsd.edu/MSV000083302/peak/mzxml...</td>\n",
       "      <td>ERS4356233</td>\n",
       "    </tr>\n",
       "    <tr>\n",
       "      <td>1</td>\n",
       "      <td>ftp://massive.ucsd.edu/MSV000083302/peak/mzxml...</td>\n",
       "      <td>ERS4356234</td>\n",
       "    </tr>\n",
       "    <tr>\n",
       "      <td>2</td>\n",
       "      <td>ftp://massive.ucsd.edu/MSV000083302/peak/mzxml...</td>\n",
       "      <td>ERS4356235</td>\n",
       "    </tr>\n",
       "    <tr>\n",
       "      <td>3</td>\n",
       "      <td>ftp://massive.ucsd.edu/MSV000083302/peak/mzxml...</td>\n",
       "      <td>ERS4356236</td>\n",
       "    </tr>\n",
       "    <tr>\n",
       "      <td>4</td>\n",
       "      <td>ftp://massive.ucsd.edu/MSV000083302/peak/mzxml...</td>\n",
       "      <td>ERS4356237</td>\n",
       "    </tr>\n",
       "  </tbody>\n",
       "</table>\n",
       "</div>"
      ],
      "text/plain": [
       "                                    Metabolomics_ftp experiment_accession\n",
       "0  ftp://massive.ucsd.edu/MSV000083302/peak/mzxml...           ERS4356233\n",
       "1  ftp://massive.ucsd.edu/MSV000083302/peak/mzxml...           ERS4356234\n",
       "2  ftp://massive.ucsd.edu/MSV000083302/peak/mzxml...           ERS4356235\n",
       "3  ftp://massive.ucsd.edu/MSV000083302/peak/mzxml...           ERS4356236\n",
       "4  ftp://massive.ucsd.edu/MSV000083302/peak/mzxml...           ERS4356237"
      ]
     },
     "execution_count": 20,
     "metadata": {},
     "output_type": "execute_result"
    }
   ],
   "source": [
    "pairing_df = pd.read_csv(INPUT_TSV_FILENAME, sep=None)\n",
    "pairing_df.head()"
   ]
  },
  {
   "cell_type": "code",
   "execution_count": 21,
   "metadata": {},
   "outputs": [],
   "source": [
    "template_json = json.loads(open(INPUT_JSON_FILENAME).read())"
   ]
  },
  {
   "cell_type": "code",
   "execution_count": 22,
   "metadata": {},
   "outputs": [],
   "source": [
    "# Preparing the genome tables\n",
    "\n",
    "all_genome_links = []\n",
    "for pair in pairing_df.to_dict(orient=\"records\"):\n",
    "    genome_dict = {}\n",
    "    genome_dict[\"genome_label\"] = pair[\"experiment_accession\"]\n",
    "    genome_dict[\"genome_ID\"] = {\n",
    "        \"genome_type\" : \"metagenome\",\n",
    "        \"ENA_NCBI_accession\" : pair[\"experiment_accession\"]\n",
    "    }\n",
    "    genome_dict[\"BioSample_accession\"] = pair[\"experiment_accession\"]\n",
    "    all_genome_links.append(genome_dict)"
   ]
  },
  {
   "cell_type": "code",
   "execution_count": 23,
   "metadata": {},
   "outputs": [],
   "source": [
    "# Preparing the join table\n",
    "\n",
    "all_paired_links = []\n",
    "for pair in pairing_df.to_dict(orient=\"records\"):\n",
    "    link_dict = {}\n",
    "    link_dict[\"genome_label\"] = pair[\"experiment_accession\"]\n",
    "    link_dict[\"metabolomics_file\"] = pair[\"Metabolomics_ftp\"]\n",
    "    link_dict[\"sample_preparation_label\"] = SAMPLE_PREP\n",
    "    link_dict[\"extraction_method_label\"] = EXTRACTION_METHOD\n",
    "    link_dict[\"instrumentation_method_label\"] = INSTRUMENT_METHOD_LABEL\n",
    "    \n",
    "    all_paired_links.append(link_dict)\n",
    "    "
   ]
  },
  {
   "cell_type": "code",
   "execution_count": 24,
   "metadata": {},
   "outputs": [],
   "source": [
    "# Merging it all together\n",
    "\n",
    "template_json[\"genomes\"] = all_genome_links\n",
    "template_json[\"genome_metabolome_links\"] = all_paired_links\n",
    "with open(\"Kelly_formatted_json.json\", \"w\") as output_file:\n",
    "    output_file.write(json.dumps(template_json))"
   ]
  },
  {
   "cell_type": "code",
   "execution_count": null,
   "metadata": {},
   "outputs": [],
   "source": []
  }
 ],
 "metadata": {
  "kernelspec": {
   "display_name": "Python 3",
   "language": "python",
   "name": "python3"
  },
  "language_info": {
   "codemirror_mode": {
    "name": "ipython",
    "version": 3
   },
   "file_extension": ".py",
   "mimetype": "text/x-python",
   "name": "python",
   "nbconvert_exporter": "python",
   "pygments_lexer": "ipython3",
   "version": "3.7.3"
  }
 },
 "nbformat": 4,
 "nbformat_minor": 4
}
